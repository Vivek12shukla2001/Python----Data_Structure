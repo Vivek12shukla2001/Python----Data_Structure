{
  "nbformat": 4,
  "nbformat_minor": 0,
  "metadata": {
    "colab": {
      "provenance": []
    },
    "kernelspec": {
      "name": "python3",
      "display_name": "Python 3"
    },
    "language_info": {
      "name": "python"
    }
  },
  "cells": [
    {
      "cell_type": "markdown",
      "source": [],
      "metadata": {
        "id": "XNyRdJFRZ3SD"
      }
    },
    {
      "cell_type": "markdown",
      "source": [
        "#Python - Data Structure\n"
      ],
      "metadata": {
        "id": "tMQfeexUZ4rV"
      }
    },
    {
      "cell_type": "markdown",
      "source": [
        "1. What are data structures, and why are they important?\n",
        "    >-Data structures are ways of organizing and storing data so that it can be accessed and modified efficiently. They are important because they allow programmers to manage large amounts of data effectively and optimize operations such as searching, insertion, deletion, and updating.\n",
        "\n",
        "2. Explain the difference between mutable and immutable data types with examples.**\n",
        "   >-Mutable data types can be changed after creation. For example, lists and dictionaries are mutable in Python.\n",
        "   >-Immutable data types cannot be changed after they are created. Examples include strings, tuples, and frozensets.\n",
        "\n",
        "3. What are the main differences between lists and tuples in Python?\n",
        "   >- Lists are mutable (can be changed), and they use square brackets `[]`.\n",
        "   - Tuples are immutable (cannot be changed), and they use parentheses `()`.\n",
        "   - Lists are generally more flexible but slower in terms of performance, while tuples are faster due to their immutability.\n",
        "\n",
        "4. Describe how dictionaries store data.\n",
        "   >- Dictionaries store data in key-value pairs. Each key is unique, and it is associated with a value. They are implemented using hash tables, where the key is hashed to determine the index at which the value is stored.\n",
        "\n",
        "5. Why might you use a set instead of a list in Python?\n",
        "   >-A set is preferred when you need to store unique values and perform operations like union, intersection, and difference efficiently. Unlike lists, sets do not allow duplicate elements.\n",
        "\n",
        "6. What is a string in Python, and how is it different from a list?\n",
        "   >-A string is a sequence of characters, and it is immutable, meaning its value cannot be changed once it is created. A list, on the other hand, is mutable, and its elements can be modified.\n",
        "\n",
        "7. How do tuples ensure data integrity in Python?\n",
        "   >-Tuples are immutable, meaning that once created, their contents cannot be altered. This helps ensure that the data remains consistent and prevents accidental changes.\n",
        "\n",
        "8. What is a hash table, and how does it relate to dictionaries in Python?\n",
        "   >-A hash table is a data structure that stores key-value pairs and uses a hash function to compute an index for storing values. Python dictionaries are implemented using hash tables, allowing fast lookup, insertion, and deletion operations.\n",
        "\n",
        "9. Can lists contain different data types in Python?\n",
        "   >- Yes, lists can contain elements of different data types. For example, a list can hold integers, strings, and other objects.\n",
        "\n",
        "10. Explain why strings are immutable in Python.\n",
        "    >-Strings are immutable to optimize memory usage and performance. Immutable objects are safer because they cannot be modified, which helps prevent accidental changes during execution.\n",
        "\n",
        "11. What advantages do dictionaries offer over lists for certain tasks?\n",
        "    >-Dictionaries provide faster lookups, insertions, and deletions based on keys, while lists require iteration to access elements. This makes dictionaries more efficient when you need to store and retrieve data based on unique identifiers.\n",
        "\n",
        "12. Describe a scenario where using a tuple would be preferable over a list.\n",
        "    >-If you need to store a fixed set of data that should not be changed, such as coordinates `(x, y, z)` or the dimensions of an object, a tuple would be preferable because it guarantees immutability.\n",
        "\n",
        "13. How do sets handle duplicate values in Python?\n",
        "    >-Sets automatically remove duplicate values. If you try to add a duplicate element to a set, it will be ignored.\n",
        "\n",
        "14. How does the “in” keyword work differently for lists and dictionaries?\n",
        "    >- In a list, the `in` keyword checks for the presence of an element in the list.\n",
        "    - In a dictionary, `in` checks for the presence of a key, not a value.\n",
        "\n",
        "15. Can you modify the elements of a tuple? Explain why or why not.\n",
        "    >- No, you cannot modify the elements of a tuple because tuples are immutable. Once a tuple is created, its elements cannot be changed.\n",
        "\n",
        "16. What is a nested dictionary, and give an example of its use case?\n",
        "    >-A nested dictionary is a dictionary where the value associated with a key is another dictionary. It is useful for representing hierarchical data. Example: `person = {'name': 'John', 'address': {'street': '123 Main St', 'city': 'Anytown'}}`.\n",
        "\n",
        "17. Describe the time complexity of accessing elements in a dictionary.\n",
        "    >-The time complexity of accessing elements in a dictionary is O(1) on average due to the hash table implementation. However, it can be O(n)in the worst case if there are hash collisions.\n",
        "\n",
        "18. In what situations are lists preferred over dictionaries?\n",
        "    >-Lists are preferred when you need to maintain the order of elements or need to store a collection of items that do not require fast lookups based on keys.\n",
        "\n",
        "19. Why are dictionaries considered unordered, and how does that affect data retrieval?\n",
        "    >-Dictionaries are unordered because they do not maintain the insertion order of keys. This means the order of elements in a dictionary is not guaranteed, which can affect how you retrieve or iterate over the keys and values.\n",
        "\n",
        "20. Explain the difference between a list and a dictionary in terms of data retrieval.\n",
        "    >-In a list, data is retrieved using an index (position), while in a dictionary, data is retrieved using a unique key. Lists are ordered, but dictionaries are unordered."
      ],
      "metadata": {
        "id": "s8nnNnzfaQz1"
      }
    },
    {
      "cell_type": "markdown",
      "source": [
        "#Practical Questions"
      ],
      "metadata": {
        "id": "N5Jrwj7JcCSN"
      }
    },
    {
      "cell_type": "code",
      "source": [
        "# Strings\n",
        "# 1. Create a string with your name and print it.\n",
        "name = input(\"YourName\")\n",
        "print(name)\n",
        "\n"
      ],
      "metadata": {
        "colab": {
          "base_uri": "https://localhost:8080/"
        },
        "id": "Gdmy5JjLfRwo",
        "outputId": "c2b1b110-5097-4354-cde5-12dc70ba25aa"
      },
      "execution_count": 8,
      "outputs": [
        {
          "output_type": "stream",
          "name": "stdout",
          "text": [
            "YourNamedata sturcture\n",
            "data sturcture\n"
          ]
        }
      ]
    },
    {
      "cell_type": "code",
      "source": [
        "# 2. Find the length of the string \"Hello World\".\n",
        "string = \"Hello World\"\n",
        "print(len(string))\n",
        "\n"
      ],
      "metadata": {
        "colab": {
          "base_uri": "https://localhost:8080/"
        },
        "collapsed": true,
        "id": "5qtoj-aCd_DL",
        "outputId": "e40bdc24-8cbf-47eb-bae4-c32b301d9f7f"
      },
      "execution_count": 9,
      "outputs": [
        {
          "output_type": "stream",
          "name": "stdout",
          "text": [
            "11\n"
          ]
        }
      ]
    },
    {
      "cell_type": "code",
      "source": [
        "# 3. Slice the first 3 characters from the string \"Python Programming\".\n",
        "string = \"Python Programming\"\n",
        "sliced = string[:2]\n",
        "print(sliced)\n",
        "\n"
      ],
      "metadata": {
        "colab": {
          "base_uri": "https://localhost:8080/"
        },
        "id": "8pFU0j28f-dW",
        "outputId": "efbf81f9-a446-4cb6-d9b2-5d17734b3ea3"
      },
      "execution_count": 10,
      "outputs": [
        {
          "output_type": "stream",
          "name": "stdout",
          "text": [
            "Py\n"
          ]
        }
      ]
    },
    {
      "cell_type": "code",
      "source": [
        "# 4. Convert the string \"hello\" to uppercase.\n",
        "string = \"hello\"\n",
        "uppercase = string.upper()\n",
        "print(uppercase)\n",
        "\n"
      ],
      "metadata": {
        "colab": {
          "base_uri": "https://localhost:8080/"
        },
        "id": "CXqoJkBugLH7",
        "outputId": "28b7118c-7500-45c6-f658-2299928dbc2b"
      },
      "execution_count": 11,
      "outputs": [
        {
          "output_type": "stream",
          "name": "stdout",
          "text": [
            "HELLO\n"
          ]
        }
      ]
    },
    {
      "cell_type": "code",
      "source": [
        "# 5. Replace the word \"apple\" with \"orange\" in the string \"I like apple\".\n",
        "string = \"I like apple\"\n",
        "modified_string = string.replace(\"apple\", \"orange\")\n",
        "print(modified_string)\n",
        "\n"
      ],
      "metadata": {
        "colab": {
          "base_uri": "https://localhost:8080/"
        },
        "id": "BKKLoR6bgWlB",
        "outputId": "d3958514-1403-4b30-f583-9b74ec4b7b48"
      },
      "execution_count": 12,
      "outputs": [
        {
          "output_type": "stream",
          "name": "stdout",
          "text": [
            "I like orange\n"
          ]
        }
      ]
    },
    {
      "cell_type": "code",
      "source": [
        "# Lists\n",
        "# 6. Create a list with numbers 1 to 5 and print it.\n",
        "numbers = [1, 2, 3, 4, 5]\n",
        "print(numbers)\n",
        "\n",
        "# 7. Append the number 10 to the list [1, 2, 3, 4].\n",
        "numbers = [1, 2, 3, 4]\n",
        "numbers.append(10)\n",
        "print(numbers)\n",
        "\n",
        "# 8. Remove the number 3 from the list [1, 2, 3, 4, 5].\n",
        "numbers = [1, 2, 3, 4, 5]\n",
        "numbers.remove(3)\n",
        "print(numbers)\n",
        "\n",
        "# 9. Access the second element in the list ['a', 'b', 'c', 'd'].\n",
        "letters = ['a', 'b', 'c', 'd']\n",
        "print(letters[1])\n",
        "\n",
        "# 10. Reverse the list [10, 20, 30, 40, 50].\n",
        "numbers = [10, 20, 30, 40, 50]\n",
        "numbers.reverse()\n",
        "print(numbers)\n"
      ],
      "metadata": {
        "colab": {
          "base_uri": "https://localhost:8080/"
        },
        "id": "shf4v66NgebZ",
        "outputId": "034d5844-e18f-4721-a82f-09a2f3c53a0a"
      },
      "execution_count": 13,
      "outputs": [
        {
          "output_type": "stream",
          "name": "stdout",
          "text": [
            "[1, 2, 3, 4, 5]\n",
            "[1, 2, 3, 4, 10]\n",
            "[1, 2, 4, 5]\n",
            "b\n",
            "[50, 40, 30, 20, 10]\n"
          ]
        }
      ]
    },
    {
      "cell_type": "code",
      "source": [
        "# 11. Create a tuple with the elements 10, 20, 30 and print it.\n",
        "numbers = (10, 20, 30)\n",
        "print(numbers)\n",
        "\n",
        "# 12. Access the first element of the tuple ('apple', 'banana', 'cherry').\n",
        "fruits = ('apple', 'banana', 'cherry')\n",
        "print(fruits[0])\n",
        "\n",
        "# 13. Count how many times the number 2 appears in the tuple (1, 2, 3, 2, 4, 2).\n",
        "numbers = (1, 2, 3, 2, 4, 2)\n",
        "count = numbers.count(2)\n",
        "print(count)\n",
        "\n",
        "# 14. Find the index of the element \"cat\" in the tuple ('dog', 'cat', 'rabbit').\n",
        "animals = ('dog', 'cat', 'rabbit')\n",
        "index = animals.index('cat')\n",
        "print(index)\n",
        "\n",
        "# 15. Check if the element \"banana\" is in the tuple ('apple', 'orange', 'banana').\n",
        "fruits = ('apple', 'orange', 'banana')\n",
        "print('banana' in fruits)\n"
      ],
      "metadata": {
        "colab": {
          "base_uri": "https://localhost:8080/"
        },
        "id": "ViWd3o_Igr0c",
        "outputId": "c243420f-934c-44bf-d1ca-cc7ae13be5f2"
      },
      "execution_count": 14,
      "outputs": [
        {
          "output_type": "stream",
          "name": "stdout",
          "text": [
            "(10, 20, 30)\n",
            "apple\n",
            "3\n",
            "1\n",
            "True\n"
          ]
        }
      ]
    },
    {
      "cell_type": "code",
      "source": [
        "# 16. Create a set with the elements 1, 2, 3, 4, 5 and print it.\n",
        "numbers = {1, 2, 3, 4, 5}\n",
        "print(numbers)\n",
        "\n",
        "# 17. Add the element 6 to the set {1, 2, 3, 4}.\n",
        "numbers = {1, 2, 3, 4}\n",
        "numbers.add(6)\n",
        "print(numbers)\n",
        "\n",
        "# 18. Create a tuple with the elements 10, 20, 30 and print it.\n",
        "numbers = (10, 20, 30)\n",
        "print(numbers)\n",
        "\n",
        "# 19. Access the first element of the tuple ('apple', 'banana', 'cherry').\n",
        "fruits = ('apple', 'banana', 'cherry')\n",
        "print(fruits[0])\n",
        "\n",
        "# 20. Count how many times the number 2 appears in the tuple (1, 2, 3, 2, 4, 2).\n",
        "numbers = (1, 2, 3, 2, 4, 2)\n",
        "count = numbers.count(2)\n",
        "print(count)\n"
      ],
      "metadata": {
        "colab": {
          "base_uri": "https://localhost:8080/"
        },
        "id": "RbzoED0lg0DF",
        "outputId": "0e788c7b-9f1e-4cb6-a7b6-066a8b837c91"
      },
      "execution_count": 15,
      "outputs": [
        {
          "output_type": "stream",
          "name": "stdout",
          "text": [
            "{1, 2, 3, 4, 5}\n",
            "{1, 2, 3, 4, 6}\n",
            "(10, 20, 30)\n",
            "apple\n",
            "3\n"
          ]
        }
      ]
    },
    {
      "cell_type": "code",
      "source": [
        "\n",
        "# 21. Find the index of the element \"cat\" in the tuple ('dog', 'cat', 'rabbit').\n",
        "animals = ('dog', 'cat', 'rabbit')\n",
        "index = animals.index('cat')\n",
        "print(index)\n",
        "\n",
        "# 22. Check if the element \"banana\" is in the tuple ('apple', 'orange', 'banana').\n",
        "fruits = ('apple', 'orange', 'banana')\n",
        "print('banana' in fruits)\n",
        "\n",
        "# 23. Create a set with the elements 1, 2, 3, 4, 5 and print it.\n",
        "numbers_set = {1, 2, 3, 4, 5}\n",
        "print(numbers_set)\n",
        "\n",
        "# 24. Add the element 6 to the set {1, 2, 3, 4}.\n",
        "numbers_set = {1, 2, 3, 4}\n",
        "numbers_set.add(6)\n",
        "print(numbers_set)\n"
      ],
      "metadata": {
        "colab": {
          "base_uri": "https://localhost:8080/"
        },
        "id": "6WJGN7Qug7sk",
        "outputId": "0a8196fe-7203-40c8-ed59-8d944943e87c"
      },
      "execution_count": 16,
      "outputs": [
        {
          "output_type": "stream",
          "name": "stdout",
          "text": [
            "1\n",
            "True\n",
            "{1, 2, 3, 4, 5}\n",
            "{1, 2, 3, 4, 6}\n"
          ]
        }
      ]
    }
  ]
}